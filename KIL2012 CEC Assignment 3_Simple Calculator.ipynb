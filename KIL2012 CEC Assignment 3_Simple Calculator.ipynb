{
 "cells": [
  {
   "cell_type": "code",
   "execution_count": 2,
   "id": "7560d9ec",
   "metadata": {},
   "outputs": [
    {
     "name": "stdout",
     "output_type": "stream",
     "text": [
      "Enter the first number: 4.5\n",
      "Enter the second number: 0\n",
      "Choose a mathematical operation [addition, substraction, multiplication, division] :division\n",
      "Division by zero is not allowed\n",
      "Please enter a valid mathematical operation\n"
     ]
    }
   ],
   "source": [
    "def simple_calculator():\n",
    "    \n",
    "    try:\n",
    "        number_input1 = float(input(\"Enter the first number: \"))\n",
    "    except ValueError:\n",
    "        print(\"Please enter a valid integer\")\n",
    "        \n",
    "    try:\n",
    "        number_input2 = float(input(\"Enter the second number: \"))\n",
    "    except ValueError:\n",
    "        print(\"Please enter a valid integer\")\n",
    "        \n",
    "    try:\n",
    "        operation_input = input(\"Choose a mathematical operation [addition, substraction, multiplication, division] :\")\n",
    "        if operation_input == \"addition\":\n",
    "            result = number_input1 + number_input2\n",
    "            \n",
    "        elif operation_input == \"substraction\":\n",
    "            result = number_input1 - number_input2\n",
    "            \n",
    "        elif operation_input == \"multiplication\":\n",
    "            result = number_input1 * number_input2\n",
    "            \n",
    "        elif operation_input == \"division\":\n",
    "            try:\n",
    "                result = number_input1 / number_input2\n",
    "            except ZeroDivisionError:\n",
    "                print(\"Division by zero is not allowed\")\n",
    "        return result\n",
    "    except:\n",
    "        print(\"Please enter a valid mathematical operation\")\n",
    "\n",
    "simple_calculator()"
   ]
  },
  {
   "cell_type": "code",
   "execution_count": null,
   "id": "b932d63b",
   "metadata": {},
   "outputs": [],
   "source": []
  },
  {
   "cell_type": "code",
   "execution_count": null,
   "id": "3c68ab91",
   "metadata": {},
   "outputs": [],
   "source": []
  },
  {
   "cell_type": "code",
   "execution_count": null,
   "id": "95e92f01",
   "metadata": {},
   "outputs": [],
   "source": []
  }
 ],
 "metadata": {
  "kernelspec": {
   "display_name": "Python 3 (ipykernel)",
   "language": "python",
   "name": "python3"
  },
  "language_info": {
   "codemirror_mode": {
    "name": "ipython",
    "version": 3
   },
   "file_extension": ".py",
   "mimetype": "text/x-python",
   "name": "python",
   "nbconvert_exporter": "python",
   "pygments_lexer": "ipython3",
   "version": "3.11.5"
  }
 },
 "nbformat": 4,
 "nbformat_minor": 5
}
