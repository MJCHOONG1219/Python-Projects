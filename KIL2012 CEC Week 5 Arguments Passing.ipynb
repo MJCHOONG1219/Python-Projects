{
 "cells": [
  {
   "cell_type": "markdown",
   "id": "3e95e078",
   "metadata": {},
   "source": [
    "# Positional Arguments"
   ]
  },
  {
   "cell_type": "code",
   "execution_count": 2,
   "id": "b17cfaca",
   "metadata": {},
   "outputs": [
    {
     "name": "stdout",
     "output_type": "stream",
     "text": [
      "Alice is enrolled in Mathematics class.\n"
     ]
    }
   ],
   "source": [
    "def student_information(class_name,student_name):\n",
    "    #Display information about a student and their class.\n",
    "    print (student_name + \" is enrolled in \" + class_name + \" class.\")\n",
    "#Positional argumens:\n",
    "student_information('Mathematics','Alice')"
   ]
  },
  {
   "cell_type": "markdown",
   "id": "fb68702c",
   "metadata": {},
   "source": [
    "# Keyword Arguments"
   ]
  },
  {
   "cell_type": "code",
   "execution_count": 5,
   "id": "b6e63923",
   "metadata": {},
   "outputs": [
    {
     "name": "stdout",
     "output_type": "stream",
     "text": [
      "Daniel is enrolled in Thermodynamics class.\n"
     ]
    }
   ],
   "source": [
    "def student_information(class_name,student_name):\n",
    "    #Display information about a student and their class.\n",
    "    print (student_name + \" is enrolled in \" + class_name +\" class.\")\n",
    "#Keyword arguments:\n",
    "student_information(student_name=\"Daniel\",class_name=\"Thermodynamics\")"
   ]
  },
  {
   "cell_type": "markdown",
   "id": "ed698af8",
   "metadata": {},
   "source": [
    "# Function Calling"
   ]
  },
  {
   "cell_type": "code",
   "execution_count": 6,
   "id": "20b92601",
   "metadata": {},
   "outputs": [
    {
     "name": "stdout",
     "output_type": "stream",
     "text": [
      "Ahmed is enrolled in Python class.\n"
     ]
    }
   ],
   "source": [
    "student_information(student_name=\"Ahmed\",class_name=\"Python\")"
   ]
  },
  {
   "cell_type": "code",
   "execution_count": 21,
   "id": "536b4fd0",
   "metadata": {},
   "outputs": [],
   "source": [
    "def enroll_student(student_name,course=\"Introduction to Python\"):\n",
    "    #Enroll a student in a course with a default option.\n",
    "    #Jide only default argument can be followed by non-default argument\n",
    "    print(\"Student Name: \" + student_name)\n",
    "    print(\"Enrolled Course: \"+ course)"
   ]
  },
  {
   "cell_type": "code",
   "execution_count": 18,
   "id": "5d719cc3",
   "metadata": {},
   "outputs": [
    {
     "name": "stdout",
     "output_type": "stream",
     "text": [
      "Student Name: Daniel\n",
      "Enrolled Course: Introduction to Python\n"
     ]
    }
   ],
   "source": [
    "#Using default argument for course.\n",
    "enroll_student(student_name=\"Daniel\")"
   ]
  },
  {
   "cell_type": "code",
   "execution_count": 19,
   "id": "bd5f0b09",
   "metadata": {},
   "outputs": [
    {
     "name": "stdout",
     "output_type": "stream",
     "text": [
      "Student Name: Ali\n",
      "Enrolled Course: Physics\n"
     ]
    }
   ],
   "source": [
    "enroll_student(\"Ali\",\"Physics\")"
   ]
  },
  {
   "cell_type": "code",
   "execution_count": 20,
   "id": "5743c541",
   "metadata": {},
   "outputs": [
    {
     "name": "stdout",
     "output_type": "stream",
     "text": [
      "Student Name: Daniel\n",
      "Enrolled Course: Organic Chemistry\n"
     ]
    }
   ],
   "source": [
    "enroll_student(student_name=\"Daniel\",course=\"Organic Chemistry\")"
   ]
  },
  {
   "cell_type": "markdown",
   "id": "3b787651",
   "metadata": {},
   "source": [
    "# Variable-length Arguments: *args"
   ]
  },
  {
   "cell_type": "code",
   "execution_count": 10,
   "id": "8638bb42",
   "metadata": {},
   "outputs": [],
   "source": [
    "def enroll_in_courses(student_name, *courses):\n",
    "    # Enroll a student in multiple courses.\n",
    "    print(\"Student: \" + student_name)\n",
    "    print(\"Enrolled in:\")\n",
    "    for course in courses:\n",
    "        print(\"- \" + course)"
   ]
  },
  {
   "cell_type": "code",
   "execution_count": 12,
   "id": "cff25146",
   "metadata": {},
   "outputs": [
    {
     "name": "stdout",
     "output_type": "stream",
     "text": [
      "Student: Sara\n",
      "Enrolled in:\n",
      "- English\n",
      "- Programming\n",
      "- Physics\n"
     ]
    }
   ],
   "source": [
    "enroll_in_courses(\"Sara\",\"English\",\"Programming\",\"Physics\")"
   ]
  },
  {
   "cell_type": "markdown",
   "id": "21647a8c",
   "metadata": {},
   "source": [
    "# Variable-length Arguments: **kwargs"
   ]
  },
  {
   "cell_type": "code",
   "execution_count": 47,
   "id": "0da4eda4",
   "metadata": {},
   "outputs": [],
   "source": [
    "def enroll_student(student_name, **details):\n",
    "     # Enroll a student with additional details.\n",
    "    print(\"Enrolling \" + student_name + \" with the following details:\")\n",
    "    for detail, value in details.items():\n",
    "        print(\"- \" + detail.replace('_', ' ').title() + \": \" + str(value))"
   ]
  },
  {
   "cell_type": "code",
   "execution_count": 48,
   "id": "3a6c4354",
   "metadata": {},
   "outputs": [
    {
     "name": "stdout",
     "output_type": "stream",
     "text": [
      "Enrolling Smith with the following details:\n",
      "- Course: Algebra II\n",
      "- Semester: One\n",
      "- Payment Method: Credit Card\n"
     ]
    }
   ],
   "source": [
    "enroll_student('Smith', course='Algebra II', semester='One', payment_method='Credit Card')"
   ]
  },
  {
   "cell_type": "code",
   "execution_count": null,
   "id": "627284db",
   "metadata": {},
   "outputs": [],
   "source": []
  }
 ],
 "metadata": {
  "kernelspec": {
   "display_name": "Python 3 (ipykernel)",
   "language": "python",
   "name": "python3"
  },
  "language_info": {
   "codemirror_mode": {
    "name": "ipython",
    "version": 3
   },
   "file_extension": ".py",
   "mimetype": "text/x-python",
   "name": "python",
   "nbconvert_exporter": "python",
   "pygments_lexer": "ipython3",
   "version": "3.11.5"
  }
 },
 "nbformat": 4,
 "nbformat_minor": 5
}
