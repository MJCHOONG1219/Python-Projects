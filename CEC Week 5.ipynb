{
 "cells": [
  {
   "cell_type": "markdown",
   "id": "3e95e078",
   "metadata": {},
   "source": [
    "# Positional Arguments"
   ]
  },
  {
   "cell_type": "code",
   "execution_count": null,
   "id": "b17cfaca",
   "metadata": {},
   "outputs": [],
   "source": [
    "def student_information(class_name,student_name):\n",
    "    #Display information about a student and their class.\n",
    "    print (student_name + \" is enrolled in\" + \" class.\")\n",
    "#Positional argumens:\n",
    "student_information('Mathematics','Alice')"
   ]
  }
 ],
 "metadata": {
  "kernelspec": {
   "display_name": "Python 3 (ipykernel)",
   "language": "python",
   "name": "python3"
  },
  "language_info": {
   "codemirror_mode": {
    "name": "ipython",
    "version": 3
   },
   "file_extension": ".py",
   "mimetype": "text/x-python",
   "name": "python",
   "nbconvert_exporter": "python",
   "pygments_lexer": "ipython3",
   "version": "3.11.5"
  }
 },
 "nbformat": 4,
 "nbformat_minor": 5
}
