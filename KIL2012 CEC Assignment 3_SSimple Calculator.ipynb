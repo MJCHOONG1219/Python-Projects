{
 "cells": [
  {
   "cell_type": "code",
   "execution_count": 7,
   "id": "7560d9ec",
   "metadata": {},
   "outputs": [],
   "source": [
    "def simple_calculator():\n",
    "    \n",
    "    try:\n",
    "        number_input1 = int(input(\"Enter the first number: \"))\n",
    "    except ValueError:\n",
    "        print(\"Please enter a valid integer\")\n",
    "        \n",
    "    try:\n",
    "        number_input2 = int(input(\"Enter the second number: \"))\n",
    "    except ValueError:\n",
    "        print(\"Please enter a valid integer\")\n",
    "        \n",
    "    try:\n",
    "        operation_input = input(\"Choose a mathematical operation [addition, substraction, multiplication, division] :\")\n",
    "        if operation_input == \"addition\":\n",
    "            result = number_input1 + number_input2\n",
    "            \n",
    "        elif operation_input == \"substraction\":\n",
    "            result = number_input1 - number_input2\n",
    "            \n",
    "        elif operation_input == \"multiplication\":\n",
    "            result = number_input1 * number_input2\n",
    "            \n",
    "        elif operation_input == \"division\":\n",
    "            try:\n",
    "                result = number_input1 / number_input2\n",
    "            except ZeroDivisionError:\n",
    "                print(\"Division by zero is not allowed\")\n",
    "        return result\n",
    "    except:\n",
    "        print(\"Please enter a valid mathematical operation\")\n"
   ]
  },
  {
   "cell_type": "code",
   "execution_count": 1,
   "id": "b932d63b",
   "metadata": {},
   "outputs": [
    {
     "ename": "NameError",
     "evalue": "name 'simple_calculator' is not defined",
     "output_type": "error",
     "traceback": [
      "\u001b[1;31m---------------------------------------------------------------------------\u001b[0m",
      "\u001b[1;31mNameError\u001b[0m                                 Traceback (most recent call last)",
      "Cell \u001b[1;32mIn[1], line 1\u001b[0m\n\u001b[1;32m----> 1\u001b[0m \u001b[38;5;28mprint\u001b[39m(simple_calculator())\n",
      "\u001b[1;31mNameError\u001b[0m: name 'simple_calculator' is not defined"
     ]
    }
   ],
   "source": [
    "print(simple_calculator())"
   ]
  },
  {
   "cell_type": "code",
   "execution_count": 2,
   "id": "3c68ab91",
   "metadata": {},
   "outputs": [
    {
     "ename": "SyntaxError",
     "evalue": "incomplete input (684242779.py, line 1)",
     "output_type": "error",
     "traceback": [
      "\u001b[1;36m  Cell \u001b[1;32mIn[2], line 1\u001b[1;36m\u001b[0m\n\u001b[1;33m    def simple_calculation():\u001b[0m\n\u001b[1;37m                             ^\u001b[0m\n\u001b[1;31mSyntaxError\u001b[0m\u001b[1;31m:\u001b[0m incomplete input\n"
     ]
    }
   ],
   "source": [
    "def simple_calculation():\n",
    "    while True:\n",
    "        try:"
   ]
  },
  {
   "cell_type": "code",
   "execution_count": null,
   "id": "95e92f01",
   "metadata": {},
   "outputs": [],
   "source": []
  }
 ],
 "metadata": {
  "kernelspec": {
   "display_name": "Python 3 (ipykernel)",
   "language": "python",
   "name": "python3"
  },
  "language_info": {
   "codemirror_mode": {
    "name": "ipython",
    "version": 3
   },
   "file_extension": ".py",
   "mimetype": "text/x-python",
   "name": "python",
   "nbconvert_exporter": "python",
   "pygments_lexer": "ipython3",
   "version": "3.11.5"
  }
 },
 "nbformat": 4,
 "nbformat_minor": 5
}
