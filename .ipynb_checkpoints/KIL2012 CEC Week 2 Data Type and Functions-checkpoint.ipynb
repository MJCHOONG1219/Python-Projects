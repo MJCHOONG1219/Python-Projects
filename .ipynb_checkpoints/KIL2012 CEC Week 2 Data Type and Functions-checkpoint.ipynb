{
 "cells": [
  {
   "cell_type": "code",
   "execution_count": 20,
   "id": "e32d88b9",
   "metadata": {},
   "outputs": [
    {
     "data": {
      "text/plain": [
       "3"
      ]
     },
     "execution_count": 20,
     "metadata": {},
     "output_type": "execute_result"
    }
   ],
   "source": [
    "x=['Sara','Ahmed','Mouna']\n",
    "len(x)"
   ]
  },
  {
   "cell_type": "code",
   "execution_count": 7,
   "id": "a28ea527",
   "metadata": {},
   "outputs": [
    {
     "name": "stdout",
     "output_type": "stream",
     "text": [
      "dict_values(['mj', [1, 2, 3], False])\n"
     ]
    }
   ],
   "source": [
    "student={\"name\":\"mj\",\"age\":[1,2,3],'is_student':False}\n",
    "print(student.values())"
   ]
  },
  {
   "cell_type": "code",
   "execution_count": 32,
   "id": "6fdf2bc9",
   "metadata": {},
   "outputs": [
    {
     "data": {
      "text/plain": [
       "range(0, 500)"
      ]
     },
     "execution_count": 32,
     "metadata": {},
     "output_type": "execute_result"
    }
   ],
   "source": [
    "#this is the range of number from 0 to 1000.\n",
    "range(500)"
   ]
  },
  {
   "cell_type": "code",
   "execution_count": 30,
   "id": "761fe413",
   "metadata": {},
   "outputs": [
    {
     "name": "stdout",
     "output_type": "stream",
     "text": [
      "False\n"
     ]
    }
   ],
   "source": [
    "student={\"name\":\"mj\",\"age\":19,'is_student':False}\n",
    "print(student[\"is_student\"])\n",
    "#access to specific key point in dictionary"
   ]
  },
  {
   "cell_type": "code",
   "execution_count": 33,
   "id": "316646fd",
   "metadata": {},
   "outputs": [
    {
     "name": "stdout",
     "output_type": "stream",
     "text": [
      "50\n"
     ]
    }
   ],
   "source": [
    "x=20\n",
    "y=30\n",
    "z=x+y\n",
    "print(z)"
   ]
  },
  {
   "cell_type": "code",
   "execution_count": 37,
   "id": "0c0dd039",
   "metadata": {},
   "outputs": [
    {
     "name": "stdout",
     "output_type": "stream",
     "text": [
      "30\n"
     ]
    }
   ],
   "source": [
    "def add (a,b):\n",
    "    z=a+b\n",
    "    print(z)\n",
    "    \n",
    "add(10,20)"
   ]
  },
  {
   "cell_type": "code",
   "execution_count": 39,
   "id": "1103695b",
   "metadata": {},
   "outputs": [
    {
     "name": "stdout",
     "output_type": "stream",
     "text": [
      "30\n",
      "10\n",
      "200\n",
      "2.0\n"
     ]
    }
   ],
   "source": [
    "def sum(a,b):\n",
    "    #is a function that adds two parameters\n",
    "    return a+b\n",
    "\n",
    "def sub(a,b):\n",
    "    #is a function that substracts two parameters\n",
    "    return a-b\n",
    "\n",
    "def mult(a,b):\n",
    "    #is a function that multipled two parameters\n",
    "    return a*b\n",
    "\n",
    "def divi(a,b):\n",
    "    #is a function that divides two parameters\n",
    "    return a/b\n",
    "\n",
    "print(sum(20,10))\n",
    "print(sub(20,10))\n",
    "print(mult(20,10))\n",
    "print(divi(20,10))"
   ]
  },
  {
   "cell_type": "code",
   "execution_count": 1,
   "id": "7f154fad",
   "metadata": {},
   "outputs": [
    {
     "name": "stdout",
     "output_type": "stream",
     "text": [
      "PLease enter the name of the subject: Thermo 2\n",
      "the subject is available\n"
     ]
    }
   ],
   "source": [
    "subjects=[\"CPP2\",\"Thermo 2\",\"Arabic\",\"Heat Transfer\"]\n",
    "\n",
    "def subject_availability(subject_name):\n",
    "    if(is_available(subject_name)):\n",
    "        return\"the subject is available\"\n",
    "    else:\n",
    "        return\"the subject is not available\"\n",
    "    \n",
    "def is_available(subject_name):\n",
    "    return subject_name in subjects\n",
    "\n",
    "input_subject=input(\"PLease enter the name of the subject: \")\n",
    "print(subject_availability(input_subject))"
   ]
  },
  {
   "cell_type": "code",
   "execution_count": null,
   "id": "a37904dd",
   "metadata": {},
   "outputs": [],
   "source": []
  }
 ],
 "metadata": {
  "kernelspec": {
   "display_name": "Python 3 (ipykernel)",
   "language": "python",
   "name": "python3"
  },
  "language_info": {
   "codemirror_mode": {
    "name": "ipython",
    "version": 3
   },
   "file_extension": ".py",
   "mimetype": "text/x-python",
   "name": "python",
   "nbconvert_exporter": "python",
   "pygments_lexer": "ipython3",
   "version": "3.11.5"
  }
 },
 "nbformat": 4,
 "nbformat_minor": 5
}
