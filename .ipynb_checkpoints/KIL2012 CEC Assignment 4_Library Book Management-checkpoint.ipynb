{
 "cells": [
  {
   "cell_type": "code",
   "execution_count": 43,
   "id": "6f39ddf6",
   "metadata": {},
   "outputs": [
    {
     "name": "stdout",
     "output_type": "stream",
     "text": [
      "Checkout Processed by: Sarah Connor\n",
      "Books Checked out: \n",
      "-1984\n",
      "-Brave New World\n",
      "Checkout Duration: 3 weeks\n",
      "Additional Checkout Details\n",
      "- Late Fee:$0.25\n",
      "- Renewals Allowed:2\n",
      "- Special Conditions:Handle with care\n",
      "Special Conditions for checkout: \n",
      "- Handle with care\n"
     ]
    }
   ],
   "source": [
    "def checkout_book(librarian_name, *book_title, duration=\"2 weeks\",**kwargs):\n",
    "    print(\"Checkout Processed by: \" + librarian_name)\n",
    "    print(\"Books Checked out: \")\n",
    "    for book in book_title:\n",
    "        print(\"-\" + book)\n",
    "    print(\"Checkout Duration: \" + duration)\n",
    "    \n",
    "    if kwargs:\n",
    "        print(\"Additional Checkout Details\")\n",
    "        for detail,value in kwargs.items():\n",
    "            if detail != \"special_condition\":\n",
    "                print(\"- \" + detail.replace(\"_\",\" \").title() + \":\" + str(value))\n",
    "                \n",
    "    special_conditions=kwargs.get(\"special_conditions\")\n",
    "    if special_conditions:\n",
    "        print(\"Special Conditions for checkout: \")\n",
    "        print(f\"- {special_conditions}\")\n",
    "                \n",
    "checkout_book(\"Sarah Connor\",\"1984\",\"Brave New World\",duration=\"3 weeks\",Late_fee=\"$0.25\",Renewals_Allowed=\"2\",special_conditions=\"Handle with care\")"
   ]
  },
  {
   "cell_type": "code",
   "execution_count": 20,
   "id": "7af60a4b",
   "metadata": {},
   "outputs": [
    {
     "name": "stdout",
     "output_type": "stream",
     "text": [
      "Checkout Processed by: Sarah Connor\n",
      "Books Checked Out:\n",
      "- 1984\n",
      "- Brave New World\n",
      "Checkout Duration: 3 weeks\n",
      "Additional Checkout Details:\n",
      "- Late_fee: $0.25\n",
      "- Renewals_allowed: 2\n",
      "- Special_conditions: Handle with care\n",
      "Special Conditions for Checkout:\n",
      "- Handle with care\n"
     ]
    }
   ],
   "source": [
    "def checkout_books(librarian_name, *book_titles, duration='2 weeks', **kwargs):\n",
    "    print(f\"Checkout Processed by: {librarian_name}\")\n",
    "    print(\"Books Checked Out:\")\n",
    "    for book in book_titles:\n",
    "        print(f\"- {book}\")\n",
    "    print(f\"Checkout Duration: {duration}\")\n",
    "\n",
    "    if kwargs:\n",
    "        print(\"Additional Checkout Details:\")\n",
    "        for key, value in kwargs.items():\n",
    "            print(f\"- {key.capitalize()}: {value}\")\n",
    "\n",
    "    special_conditions = kwargs.get('special_conditions')\n",
    "    if special_conditions:\n",
    "        print(\"Special Conditions for Checkout:\")\n",
    "        print(f\"- {special_conditions}\")\n",
    "\n",
    "# Example usage:\n",
    "checkout_books('Sarah Connor', '1984', 'Brave New World', duration='3 weeks', late_fee='$0.25', renewals_allowed=2, special_conditions='Handle with care')\n"
   ]
  },
  {
   "cell_type": "code",
   "execution_count": 23,
   "id": "52e3b8da",
   "metadata": {},
   "outputs": [
    {
     "name": "stdout",
     "output_type": "stream",
     "text": [
      "Checkout Processed by: Sarah Connor\n",
      "Books Checked Out:\n",
      "- 1984\n",
      "- Brave New World\n",
      "Checkout Duration: 3 weeks\n",
      "\n",
      "Additional Checkout Details:\n",
      "- Late_fee: $0.25\n",
      "- Renewals_allowed: 2\n",
      "\n",
      "Special Conditions for Checkout:\n",
      "- Handle with care\n"
     ]
    }
   ],
   "source": [
    "def checkout_books(librarian_name, *book_titles, duration='2 weeks', **kwargs):\n",
    "    print(f\"Checkout Processed by: {librarian_name}\")\n",
    "    print(\"Books Checked Out:\")\n",
    "    for book in book_titles:\n",
    "        print(f\"- {book}\")\n",
    "    print(f\"Checkout Duration: {duration}\")\n",
    "\n",
    "    if kwargs:\n",
    "        print(\"\\nAdditional Checkout Details:\") \n",
    "        for key, value in kwargs.items():\n",
    "            if key != \"special_conditions\":\n",
    "                print(f\"- {key.capitalize()}: {value}\")\n",
    "            else:\n",
    "                continue \n",
    "                \n",
    "    special_conditions = kwargs.get('special_conditions')\n",
    "    if special_conditions:\n",
    "        print(\"\\nSpecial Conditions for Checkout:\")\n",
    "        print(f\"- {special_conditions}\")\n",
    "\n",
    "# Example usage:\n",
    "checkout_books('Sarah Connor', '1984', 'Brave New World', duration='3 weeks', late_fee='$0.25', renewals_allowed='2', special_conditions='Handle with care')"
   ]
  },
  {
   "cell_type": "code",
   "execution_count": null,
   "id": "033a1e0a",
   "metadata": {},
   "outputs": [],
   "source": []
  },
  {
   "cell_type": "code",
   "execution_count": null,
   "id": "fd0cdc13",
   "metadata": {},
   "outputs": [],
   "source": []
  }
 ],
 "metadata": {
  "kernelspec": {
   "display_name": "Python 3 (ipykernel)",
   "language": "python",
   "name": "python3"
  },
  "language_info": {
   "codemirror_mode": {
    "name": "ipython",
    "version": 3
   },
   "file_extension": ".py",
   "mimetype": "text/x-python",
   "name": "python",
   "nbconvert_exporter": "python",
   "pygments_lexer": "ipython3",
   "version": "3.11.5"
  }
 },
 "nbformat": 4,
 "nbformat_minor": 5
}
