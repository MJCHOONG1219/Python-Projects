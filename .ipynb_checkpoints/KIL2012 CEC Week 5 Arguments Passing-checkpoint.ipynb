{
 "cells": [
  {
   "cell_type": "markdown",
   "id": "3e95e078",
   "metadata": {},
   "source": [
    "# Positional Arguments"
   ]
  },
  {
   "cell_type": "code",
   "execution_count": 2,
   "id": "b17cfaca",
   "metadata": {},
   "outputs": [
    {
     "name": "stdout",
     "output_type": "stream",
     "text": [
      "Alice is enrolled in class.\n"
     ]
    }
   ],
   "source": [
    "def student_information(class_name,student_name):\n",
    "    #Display information about a student and their class.\n",
    "    print (student_name + \" is enrolled in\" + \" class.\")\n",
    "#Positional argumens:\n",
    "student_information('Mathematics','Alice')"
   ]
  },
  {
   "cell_type": "markdown",
   "id": "c33ed3b6",
   "metadata": {},
   "source": [
    "# Keyword Arguments"
   ]
  },
  {
   "cell_type": "code",
   "execution_count": 3,
   "id": "e5a001d0",
   "metadata": {},
   "outputs": [],
   "source": [
    "def student_information(class_name,student_name):\n",
    "    #Display information about a student and their class.\n",
    "    print (student_name + \" is enrolled in\" + \" class.\")"
   ]
  },
  {
   "cell_type": "markdown",
   "id": "a50820e5",
   "metadata": {},
   "source": [
    "# Fuction Calling"
   ]
  },
  {
   "cell_type": "code",
   "execution_count": 4,
   "id": "40a614ef",
   "metadata": {},
   "outputs": [
    {
     "name": "stdout",
     "output_type": "stream",
     "text": [
      "Ahmed is enrolled in class.\n"
     ]
    }
   ],
   "source": [
    "student_information(student_name=\"Ahmed\",class_name=\"Python\")"
   ]
  },
  {
   "cell_type": "code",
   "execution_count": null,
   "id": "23755ec2",
   "metadata": {},
   "outputs": [],
   "source": []
  },
  {
   "cell_type": "code",
   "execution_count": 5,
   "id": "d8fb3ec1",
   "metadata": {},
   "outputs": [],
   "source": [
    "def enroll_student(student_name,course=\"Introduction to Python\"):\n",
    "    #Enroll a student in acourse with a default option.\n",
    "    print(\"Student Name: \" + student_name)\n",
    "    print(\"Enrolled COurse: \"+ course)"
   ]
  },
  {
   "cell_type": "code",
   "execution_count": 7,
   "id": "0ed87c36",
   "metadata": {},
   "outputs": [
    {
     "name": "stdout",
     "output_type": "stream",
     "text": [
      "Student Name: Ali\n",
      "Enrolled COurse: Introduction to Python\n"
     ]
    }
   ],
   "source": [
    "enroll_student(\"Ali\")"
   ]
  },
  {
   "cell_type": "code",
   "execution_count": 9,
   "id": "de294c89",
   "metadata": {},
   "outputs": [
    {
     "name": "stdout",
     "output_type": "stream",
     "text": [
      "Student Name: Ali\n",
      "Enrolled COurse: Physics\n"
     ]
    }
   ],
   "source": [
    "enroll_student(\"Ali\",\"Physics\")"
   ]
  },
  {
   "cell_type": "markdown",
   "id": "f59497b6",
   "metadata": {},
   "source": [
    "# "
   ]
  },
  {
   "cell_type": "code",
   "execution_count": 10,
   "id": "7b7a1cae",
   "metadata": {},
   "outputs": [],
   "source": [
    "def enroll_in_courses(student_name, *courses):\n",
    "    # Enroll a student in multiple courses.\n",
    "    print(\"Student: \" + student_name)\n",
    "    print(\"Enrolled in:\")\n",
    "    for course in courses:\n",
    "        print(\"- \" + course)"
   ]
  },
  {
   "cell_type": "raw",
   "id": "264648c4",
   "metadata": {},
   "source": []
  }
 ],
 "metadata": {
  "kernelspec": {
   "display_name": "Python 3 (ipykernel)",
   "language": "python",
   "name": "python3"
  },
  "language_info": {
   "codemirror_mode": {
    "name": "ipython",
    "version": 3
   },
   "file_extension": ".py",
   "mimetype": "text/x-python",
   "name": "python",
   "nbconvert_exporter": "python",
   "pygments_lexer": "ipython3",
   "version": "3.11.5"
  }
 },
 "nbformat": 4,
 "nbformat_minor": 5
}
