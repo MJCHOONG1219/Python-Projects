{
 "cells": [
  {
   "cell_type": "markdown",
   "id": "65f5bfd9",
   "metadata": {},
   "source": [
    "# Question 1"
   ]
  },
  {
   "cell_type": "markdown",
   "id": "f8bc039a",
   "metadata": {},
   "source": [
    "# Part 1"
   ]
  },
  {
   "cell_type": "code",
   "execution_count": 62,
   "id": "01854e3b",
   "metadata": {},
   "outputs": [],
   "source": [
    "import numpy as np\n",
    "import scipy as sc\n",
    "from scipy.integrate import odeint\n",
    "\n",
    "def f(y,t):\n",
    "    f = -2*y*t\n",
    "    return[f]\n",
    "    \n",
    "y0 = 1\n",
    "t = np.linspace(0,2.,1)\n",
    "soln = odeint(f,y0,t)\n",
    "y = soln[:,0]"
   ]
  },
  {
   "cell_type": "markdown",
   "id": "a11fed8d",
   "metadata": {},
   "source": [
    "# Part 2"
   ]
  },
  {
   "cell_type": "code",
   "execution_count": 59,
   "id": "e0103b93",
   "metadata": {},
   "outputs": [
    {
     "data": {
      "image/png": "[encoded data removed]",
      "text/plain": [
       "<Figure size 640x480 with 1 Axes>"
      ]
     },
     "metadata": {},
     "output_type": "display_data"
    }
   ],
   "source": [
    "import numpy as np\n",
    "import scipy as sc\n",
    "import matplotlib.pyplot as plt\n",
    "from scipy.integrate import odeint\n",
    "\n",
    "def f(y,t):\n",
    "    f = -2*y*t\n",
    "    return[f]\n",
    "    \n",
    "y0 = 1\n",
    "t = np.linspace(0,2.,1)\n",
    "soln = odeint(f,y0,t)\n",
    "y = soln[:,0]\n",
    "\n",
    "plt.figure()\n",
    "plt.plot(t,y)\n",
    "plt.xlabel('t')\n",
    "plt.ylabel('y(t)')\n",
    "plt.title('Graph of y(t) versus t')\n",
    "plt.show()"
   ]
  },
  {
   "cell_type": "markdown",
   "id": "78a8a2f0",
   "metadata": {},
   "source": [
    "# Question 2"
   ]
  },
  {
   "cell_type": "code",
   "execution_count": 5,
   "id": "9cf61033",
   "metadata": {},
   "outputs": [
    {
     "name": "stdout",
     "output_type": "stream",
     "text": [
      "[[2 4 6]\n",
      " [5 3 2]\n",
      " [7 8 9]]\n"
     ]
    }
   ],
   "source": [
    "import numpy as np\n",
    "import scipy as sc\n",
    "\n",
    "#Define the coefficient matrix A\n",
    "A = np.array([[2,4,6],[5,3,2],[7,8,9]])\n",
    "\n",
    "print(A)"
   ]
  },
  {
   "cell_type": "code",
   "execution_count": 4,
   "id": "5b9fa0aa",
   "metadata": {},
   "outputs": [
    {
     "name": "stdout",
     "output_type": "stream",
     "text": [
      "[[18]\n",
      " [13]\n",
      " [30]]\n"
     ]
    }
   ],
   "source": [
    "#Define the constant vector B\n",
    "B = np.array([[18],[13],[30]])\n",
    "\n",
    "print(B)"
   ]
  },
  {
   "cell_type": "code",
   "execution_count": 7,
   "id": "90c110fb",
   "metadata": {},
   "outputs": [
    {
     "name": "stdout",
     "output_type": "stream",
     "text": [
      "[[ 4.5]\n",
      " [-7.5]\n",
      " [ 6.5]]\n"
     ]
    }
   ],
   "source": [
    "#Find solution\n",
    "X = sc.linalg.solve(A,B)\n",
    "\n",
    "print(X)"
   ]
  },
  {
   "cell_type": "markdown",
   "id": "0efb3fbd",
   "metadata": {},
   "source": [
    "# Question 3"
   ]
  },
  {
   "cell_type": "code",
   "execution_count": null,
   "id": "e4572370",
   "metadata": {},
   "outputs": [],
   "source": [
    "import requests\n",
    "\n",
    "api_url = \"https://api.open-meteo.com/v1/forecast?latitude=2.5&longitude=112.5&hourly=temperature_2m&timezone=Asia%2FSingapore&forecast_days=1\"\n",
    "response = requests.get(api_url)\n",
    "\n",
    "try:\n",
    "    weather_day_data = response.json()\n",
    "    \n",
    "    interest_day = int(input('Please enter the number of days: '))\n",
    "    \n",
    "    found = False\n",
    "    for day in weather_day_data:\n",
    "        if interest_day.lower() == day['day'].lower():\n",
    "            print(f\"Temperature of {state['day']}: {state['temperature']}\")\n",
    "            found = True\n",
    "            break\n",
    "            \n",
    "    if found == False:\n",
    "        print(f\"{interest_day} is not found in the data.\")\n",
    "except error as e:\n",
    "    print(f\"Failed to retrieve data.\")"
   ]
  },
  {
   "cell_type": "code",
   "execution_count": null,
   "id": "f21df0cc",
   "metadata": {},
   "outputs": [],
   "source": []
  }
 ],
 "metadata": {
  "kernelspec": {
   "display_name": "Python 3 (ipykernel)",
   "language": "python",
   "name": "python3"
  },
  "language_info": {
   "codemirror_mode": {
    "name": "ipython",
    "version": 3
   },
   "file_extension": ".py",
   "mimetype": "text/x-python",
   "name": "python",
   "nbconvert_exporter": "python",
   "pygments_lexer": "ipython3",
   "version": "3.11.5"
  }
 },
 "nbformat": 4,
 "nbformat_minor": 5
}
